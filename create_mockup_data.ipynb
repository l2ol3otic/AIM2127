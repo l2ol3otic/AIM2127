{
  "nbformat": 4,
  "nbformat_minor": 0,
  "metadata": {
    "colab": {
      "provenance": [],
      "toc_visible": true,
      "mount_file_id": "https://github.com/l2ol3otic/AIM2127/blob/master/create_mockup_data.ipynb",
      "authorship_tag": "ABX9TyPTGoMYuiCUZDKXaRAjoGJ3",
      "include_colab_link": true
    },
    "kernelspec": {
      "name": "python3",
      "display_name": "Python 3"
    },
    "language_info": {
      "name": "python"
    }
  },
  "cells": [
    {
      "cell_type": "markdown",
      "metadata": {
        "id": "view-in-github",
        "colab_type": "text"
      },
      "source": [
        "<a href=\"https://colab.research.google.com/github/l2ol3otic/AIM2127/blob/master/create_mockup_data.ipynb\" target=\"_parent\"><img src=\"https://colab.research.google.com/assets/colab-badge.svg\" alt=\"Open In Colab\"/></a>"
      ]
    },
    {
      "cell_type": "markdown",
      "source": [
        "**1. ติดตั้ง Library ที่จำเป็น**"
      ],
      "metadata": {
        "id": "TsojeFou4NKn"
      }
    },
    {
      "cell_type": "code",
      "source": [
        "!pip install faker"
      ],
      "metadata": {
        "id": "ncNRm674Cn7_",
        "collapsed": true
      },
      "execution_count": null,
      "outputs": []
    },
    {
      "cell_type": "markdown",
      "source": [
        "**`2.สร้างข้อมูล Mockup ประกอบการ Workshop`**"
      ],
      "metadata": {
        "id": "iK6uS6WE31_w"
      }
    },
    {
      "cell_type": "code",
      "execution_count": null,
      "metadata": {
        "id": "Ww62w6No9Njr",
        "collapsed": true
      },
      "outputs": [],
      "source": [
        "# prompt: create datafarme mockup idcard,name , surname thaipeople with faker th and merge data from 3province.xlsx with random row\n",
        "import pandas as pd\n",
        "from faker import Faker\n",
        "import random\n",
        "# Initialize Faker for Thai locale\n",
        "fake = Faker('th_TH')\n",
        "\n",
        "breed = ['ปทุมธานี 1', 'ชัยนาท 1', 'พิษณุโลก 2',' สุพรรณบุรี 1', 'สุพรรณบุรี 3', 'สุพรรณบุรี 60', 'ชัยนาท 80 (กข29)',\n",
        "'ปทุมธานี 80 (กข31)', 'ขาวดอกมะลิ 105']  # Example rice varieties\n",
        "\n",
        "# Number of records to generate\n",
        "num_records = 150\n",
        "\n",
        "# Generate fake data\n",
        "id_cards = [fake.ssn() for _ in range(num_records)]\n",
        "names = [fake.first_name() for _ in range(num_records)]\n",
        "surnames = [fake.last_name() for _ in range(num_records)]\n",
        "plant_area =   [random.randint(1,15) for _ in range(num_records)]\n",
        "plant_product = [random.randint(200,700) for _ in range(num_records)]\n",
        "cost = [random.randint(10000,180000) for _ in range(num_records)]\n",
        "rice_varity = [random.choice(breed) for _ in range(num_records)]\n",
        "\n",
        "# Create DataFrame\n",
        "df_fake = pd.DataFrame({'idcard': id_cards, 'name': names, 'surname': surnames,'plant_area':plant_area,'plant_product':plant_product,'cost':cost,'rice_varity':rice_varity})\n",
        "\n",
        "# Load Excel data (replace '3province.xlsx' with your actual file)\n",
        "df_province = pd.read_excel('drive/MyDrive/workshop1/3province.xlsx')\n",
        "\n",
        "# Randomly select rows from province data\n",
        "num_rows_to_merge = 100  # Adjust as needed\n",
        "random_indices = random.sample(range(0,150), num_rows_to_merge)\n",
        "df_province_subset = df_province.iloc[random_indices]\n",
        "#df_province_subset\n",
        "\n",
        "# Merge DataFrames (adjust 'merge_column' if needed)\n",
        "merged_df = pd.merge(df_fake, df_province_subset, left_index=True, right_index=True, how='left')\n",
        "merged_df\n"
      ]
    },
    {
      "cell_type": "markdown",
      "source": [
        "**`3. สร้าง Error จำลอง`**"
      ],
      "metadata": {
        "id": "JsotRE8E5REo"
      }
    },
    {
      "cell_type": "code",
      "source": [
        "# prompt: edit cell idcard with space some column and delete 1 number  some column\n",
        "\n",
        "import random\n",
        "\n",
        "# Function to introduce spaces and delete a number in an ID card string\n",
        "def modify_idcard(idcard):\n",
        "  # Randomly decide whether to modify\n",
        "  if random.random() < 0.5:\n",
        "    # Insert a space at a random position\n",
        "    position = random.randint(1, len(idcard) - 1)\n",
        "    idcard = idcard[:position] + ' ' + idcard[position:]\n",
        "\n",
        "  if random.random() < 0.5:\n",
        "    # Delete a random digit\n",
        "    position = random.randint(0, len(idcard) - 1)\n",
        "    idcard = idcard[:position] + idcard[position + 1:]\n",
        "\n",
        "  return idcard\n",
        "\n",
        "# Apply the modification to the 'idcard' column\n",
        "merged_df['idcard'] = merged_df['idcard'].apply(modify_idcard)\n",
        "\n",
        "merged_df\n"
      ],
      "metadata": {
        "collapsed": true,
        "id": "cToPhUGtiREN"
      },
      "execution_count": null,
      "outputs": []
    },
    {
      "cell_type": "markdown",
      "source": [
        "**`4. เชื่อมต่อ Google Drive`**"
      ],
      "metadata": {
        "id": "9spwbE2e46dn"
      }
    },
    {
      "cell_type": "code",
      "source": [
        "from google.colab import drive\n",
        "drive.mount('/content/drive')"
      ],
      "metadata": {
        "id": "w5TCBoZu2ttO"
      },
      "execution_count": null,
      "outputs": []
    },
    {
      "cell_type": "markdown",
      "source": [
        "**`5. เชื่อมต่อ Google Sheet`**"
      ],
      "metadata": {
        "id": "PaeTosAY5y7B"
      }
    },
    {
      "cell_type": "code",
      "source": [
        "from google.colab import sheets\n",
        "sheet = sheets.InteractiveSheet(df=merged_df)"
      ],
      "metadata": {
        "collapsed": true,
        "id": "SsfXyajUjVo2"
      },
      "execution_count": null,
      "outputs": []
    },
    {
      "cell_type": "markdown",
      "source": [
        "**`6. โหลดข้อมูลที่เราสร้างไว้จาก Google Sheet`**"
      ],
      "metadata": {
        "id": "tQdLUzya5pKZ"
      }
    },
    {
      "cell_type": "code",
      "source": [
        "# prompt: read google sheet from url\n",
        "\n",
        "from google.colab import auth\n",
        "auth.authenticate_user()\n",
        "\n",
        "import gspread\n",
        "from google.auth import default\n",
        "creds, _ = default()\n",
        "\n",
        "gc = gspread.authorize(creds)\n",
        "\n",
        "# แก้ไข YOU_SHEET_ID เป็น google sheet id แต่ละคน\n",
        "worksheet = gc.open_by_url('https://docs.google.com/spreadsheets/d/YOU_SHEET_ID#gid=0').sheet1\n",
        "\n",
        "# get_all_values gives a list of rows.\n",
        "rows = worksheet.get_all_values()\n",
        "#print(rows)\n",
        "\n",
        "# Convert to a DataFrame and render.\n",
        "import pandas as pd\n",
        "newDF = pd.DataFrame.from_records(rows)\n",
        "newDF"
      ],
      "metadata": {
        "id": "J-qjEqJHOV8b"
      },
      "execution_count": null,
      "outputs": []
    },
    {
      "cell_type": "markdown",
      "source": [
        "**`7. สร้าง หัว Column ใหม่`**"
      ],
      "metadata": {
        "id": "2wpejESHVkav"
      }
    },
    {
      "cell_type": "code",
      "source": [
        "newDF.columns = newDF.iloc[0]  # Set the first row as headers\n",
        "newDF = newDF[1:]  # Remove the original first row\n",
        "newDF"
      ],
      "metadata": {
        "id": "1ZF4n3QdMmcd",
        "collapsed": true
      },
      "execution_count": null,
      "outputs": []
    },
    {
      "cell_type": "markdown",
      "source": [
        "**`8. แก้ Format เลขบัตรประชาชน`**"
      ],
      "metadata": {
        "id": "ox2bCbco-dkI"
      }
    },
    {
      "cell_type": "code",
      "source": [
        "# Remove spaces and hyphens from 'idcard' column\n",
        "newDF['idcard'] = newDF['idcard'].str.replace(' ', '').str.replace('-', '')\n",
        "# Update the Google Sheet\n",
        "worksheet.update([newDF.columns.values.tolist()] + newDF.values.tolist())\n"
      ],
      "metadata": {
        "id": "NJ3Ii5FTP-B3",
        "collapsed": true
      },
      "execution_count": null,
      "outputs": []
    },
    {
      "cell_type": "markdown",
      "source": [
        "**`9. ตรวจสอบความถูกต้องของเลขบัตรประชาชน`**"
      ],
      "metadata": {
        "id": "I-OgqR_c-mBd"
      }
    },
    {
      "cell_type": "code",
      "source": [
        "# prompt: check idcard cell if lenght != 13 change idcard this column color to red\n",
        "\n",
        "# Iterate through the 'idcard' column and check the length\n",
        "for index, row in newDF.iterrows():\n",
        "    idcard = row['idcard']\n",
        "    goal_area = row['plant_area']\n",
        "\n",
        "    if len(idcard) != 13:\n",
        "        # Get the cell coordinates\n",
        "        cell_range = f'A{index + 1}'  # +2 because DataFrame index starts from 0 and Google Sheets rows start from 1, and we have a header row\n",
        "        # Change the background color to red\n",
        "        print(cell_range)\n",
        "        worksheet.format(cell_range, {'backgroundColor': {'green': 1}})\n",
        "\n",
        "    if float(goal_area) > 10:\n",
        "        # Get the cell coordinates\n",
        "        cell_range = f'D{index + 1}'  # +2 because DataFrame index starts from 0 and Google Sheets rows start from 1, and we have a header row\n",
        "        # Change the background color to red\n",
        "        print(cell_range)\n",
        "        worksheet.format(cell_range, {'backgroundColor': {'blue': 1}})\n",
        "\n",
        "# Update the Google Sheet\n",
        "worksheet.update([newDF.columns.values.tolist()] + newDF.values.tolist())\n"
      ],
      "metadata": {
        "id": "qpaHDCzhp4NN",
        "collapsed": true
      },
      "execution_count": null,
      "outputs": []
    }
  ]
}