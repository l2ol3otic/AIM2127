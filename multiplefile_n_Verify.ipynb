{
  "nbformat": 4,
  "nbformat_minor": 0,
  "metadata": {
    "colab": {
      "provenance": [],
      "collapsed_sections": [
        "qzmloE3e9j1w"
      ],
      "gpuType": "T4",
      "mount_file_id": "1Pq7F1xFDoMBGaUiN4vMpIhZz7AbHovzU",
      "authorship_tag": "ABX9TyMyW1Ilx7FEPPYWBFjPefTj",
      "include_colab_link": true
    },
    "kernelspec": {
      "name": "python3",
      "display_name": "Python 3"
    },
    "language_info": {
      "name": "python"
    },
    "accelerator": "GPU"
  },
  "cells": [
    {
      "cell_type": "markdown",
      "metadata": {
        "id": "view-in-github",
        "colab_type": "text"
      },
      "source": [
        "<a href=\"https://colab.research.google.com/github/l2ol3otic/AIM2127/blob/master/multiplefile_n_Verify.ipynb\" target=\"_parent\"><img src=\"https://colab.research.google.com/assets/colab-badge.svg\" alt=\"Open In Colab\"/></a>"
      ]
    },
    {
      "cell_type": "markdown",
      "source": [
        "# **ตรวจสอบและปรับปรุงข้อมูล เลขบัตรประชาชน + รวมไฟล์**"
      ],
      "metadata": {
        "id": "qzmloE3e9j1w"
      }
    },
    {
      "cell_type": "code",
      "execution_count": 17,
      "metadata": {
        "colab": {
          "base_uri": "https://localhost:8080/"
        },
        "collapsed": true,
        "id": "ZLxJDRZ8veZz",
        "outputId": "87381478-3204-4bfe-a425-1f6a02849b11"
      },
      "outputs": [
        {
          "output_type": "stream",
          "name": "stdout",
          "text": [
            "Drive already mounted at /content/drive; to attempt to forcibly remount, call drive.mount(\"/content/drive\", force_remount=True).\n",
            "['file4.xlsx', 'file3.xlsx', 'file2.xlsx', 'file1.xlsx', 'province']\n"
          ]
        }
      ],
      "source": [
        "# prompt: read all file in drive/MyDrive/workshop1/workshop2 and Remove spaces and hyphens from 'idcard' column and chage idcard column if lenght != 13\n",
        "\n",
        "import pandas as pd\n",
        "from google.colab import drive\n",
        "drive.mount('/content/drive')\n",
        "\n",
        "# List all files in the directory\n",
        "import os\n",
        "file_list = os.listdir('/content/drive/MyDrive/workshop2')\n",
        "print(file_list)\n",
        "\n",
        "# Read all CSV files and concatenate them into a single DataFrame\n",
        "dfs = []\n",
        "for file in file_list:\n",
        "  if file.endswith('.xlsx'):\n",
        "    file_path = os.path.join('/content/drive/MyDrive/workshop2', file)\n",
        "    dfx = pd.read_excel(file_path)\n",
        "    dfs.append(dfx)\n",
        "\n",
        "    df = pd.concat(dfs, ignore_index=True)\n",
        "    if 'tambonid' in df.columns:\n",
        "      df = df.drop(['tambonid'], axis=1)\n",
        "    if 'districtid' in df.columns:\n",
        "      df = df.drop(['districtid'], axis=1)\n",
        "\n",
        "    if 'provinceid' in df.columns:\n",
        "      df = df.drop(['provinceid'], axis=1)\n",
        "\n",
        "    if df['idcard'].dtype == 'object':\n",
        "      df['idcard'] = df['idcard'].str.replace(' ', '').str.replace('-', '')\n",
        "\n",
        "    # Highlight 'idcard' values with length not equal to 13 and duplicates\n",
        "    def highlight_invalid_id(id_number, duplicates):\n",
        "      if type(id_number) == str:\n",
        "        id_number = int(id_number)\n",
        "      falsecolor = 'red'\n",
        "      truecolor = 'black'\n",
        "      duplicatecolor = 'yellow'\n",
        "      if len(str(id_number)) != 13 or not str(id_number).isdigit():\n",
        "        return f'color: {falsecolor}'\n",
        "      elif id_number in duplicates:\n",
        "        return f'background-color: {duplicatecolor}'\n",
        "\n",
        "      sum = 0\n",
        "      currernt_position = str(id_number)\n",
        "      print(f\"verify_idcard : {id_number}\")\n",
        "      for i in range(12):\n",
        "        sum += int(currernt_position[i]) * (13 - i)\n",
        "        check_digit = (11 - (sum % 11)) % 10\n",
        "        if str(currernt_position[12]) == str(check_digit):\n",
        "          return f'color: {truecolor}'\n",
        "\n",
        "\n",
        "    # Find duplicate 'idcard' values\n",
        "    duplicate_ids = df[df['idcard'].duplicated(keep=False)]['idcard'].tolist()\n",
        "\n",
        "    styled_df = df.style.map(highlight_invalid_id, subset='idcard', duplicates=duplicate_ids)\n",
        "    df.to_excel('/content/drive/MyDrive/workshop2/combined_data.xlsx', index=False)\n"
      ]
    },
    {
      "cell_type": "markdown",
      "source": [
        "# **ตรวจสอบและปรับปรุงข้อมูล เลขบัตรประชาชน แยกไฟล์**"
      ],
      "metadata": {
        "id": "EG0ApYsk9yJY"
      }
    },
    {
      "cell_type": "code",
      "source": [
        "# prompt: read all file in drive/MyDrive/workshop1/workshop2 and Remove spaces and hyphens from 'idcard' column and chage idcard coloumn color if lenght != 13 and save file by file\n",
        "\n",
        "import pandas as pd\n",
        "from google.colab import drive\n",
        "import os\n",
        "\n",
        "drive.mount('/content/drive')\n",
        "\n",
        "# List all files in the directory\n",
        "file_list = os.listdir('/content/drive/MyDrive/workshop2/')\n",
        "print(file_list)\n",
        "\n",
        "# Iterate over each Excel file\n",
        "for file in file_list:\n",
        "  if file.endswith('.xlsx'):\n",
        "    file_path = os.path.join('/content/drive/MyDrive/workshop2', file)\n",
        "    df = pd.read_excel(file_path)\n",
        "\n",
        "    if 'tambonid' in df.columns:\n",
        "      df = df.drop(['tambonid'], axis=1)\n",
        "\n",
        "    if 'districtid' in df.columns:\n",
        "      df = df.drop(['districtid'], axis=1)\n",
        "\n",
        "    if 'provinceid' in df.columns:\n",
        "      df = df.drop(['provinceid'], axis=1)\n",
        "\n",
        "    if df['idcard'].dtype == 'object':\n",
        "      df['idcard'] = df['idcard'].str.replace(' ', '').str.replace('-', '')\n",
        "\n",
        "    # Highlight 'idcard' values with length not equal to 13 and duplicates\n",
        "    def highlight_invalid_id(id_number, duplicates):\n",
        "      if type(id_number) == str:\n",
        "        id_number = int(id_number)\n",
        "      falsecolor = 'red'\n",
        "      truecolor = 'black'\n",
        "      duplicatecolor = 'yellow'\n",
        "      if len(str(id_number)) != 13 or not str(id_number).isdigit():\n",
        "        return f'color: {falsecolor}'\n",
        "      elif id_number in duplicates:\n",
        "        return f'background-color: {duplicatecolor}'\n",
        "\n",
        "      sum = 0\n",
        "      currernt_position = str(id_number)\n",
        "      print(f\"verify_idcard : {id_number}\")\n",
        "      for i in range(12):\n",
        "        sum += int(currernt_position[i]) * (13 - i)\n",
        "        check_digit = (11 - (sum % 11)) % 10\n",
        "        if str(currernt_position[12]) == str(check_digit):\n",
        "          return f'color: {truecolor}'\n",
        "\n",
        "\n",
        "    # Find duplicate 'idcard' values\n",
        "    duplicate_ids = df[df['idcard'].duplicated(keep=False)]['idcard'].tolist()\n",
        "\n",
        "    styled_df = df.style.map(highlight_invalid_id, subset='idcard', duplicates=duplicate_ids)\n",
        "\n",
        "    # Save the modified DataFrame to a new Excel file\n",
        "    output_file_path = os.path.join('/content/drive/MyDrive/workshop2', f\"modified_{file}\")\n",
        "    styled_df.to_excel(output_file_path, index=False, engine='openpyxl')\n",
        "\n",
        "    print(f\"Processed and saved: {output_file_path}\")\n"
      ],
      "metadata": {
        "id": "LYLir87d1lfF"
      },
      "execution_count": null,
      "outputs": []
    }
  ]
}